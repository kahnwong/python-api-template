{
 "cells": [
  {
   "cell_type": "code",
   "execution_count": null,
   "id": "initial_id",
   "metadata": {},
   "outputs": [],
   "source": [
    "import polars as pl\n",
    "import polars as F\n",
    "import seaborn as sns"
   ]
  },
  {
   "cell_type": "code",
   "execution_count": null,
   "id": "eeb05b47-b9d6-4494-ad23-2092c91f4ea1",
   "metadata": {},
   "outputs": [],
   "source": [
    "df = pl.read_ndjson(\"../../data/tests.log\")\n",
    "df"
   ]
  },
  {
   "cell_type": "code",
   "execution_count": null,
   "id": "c5f7d64a-a277-4c40-b71f-755bd9603f8a",
   "metadata": {},
   "outputs": [],
   "source": [
    "df.filter(F.col(\"status_code\") == 200)"
   ]
  },
  {
   "cell_type": "code",
   "execution_count": null,
   "id": "3edd1d19-3601-447e-957a-a1292468f6ee",
   "metadata": {},
   "outputs": [],
   "source": [
    "sns.histplot(\n",
    "    data=df.select(\"elapsed_time\").filter(F.col(\"elapsed_time\") < 1), x=\"elapsed_time\"\n",
    ")"
   ]
  },
  {
   "cell_type": "code",
   "execution_count": null,
   "id": "76757c8d-691b-4e81-96c1-f2d3b6899ba4",
   "metadata": {},
   "outputs": [],
   "source": []
  }
 ],
 "metadata": {
  "kernelspec": {
   "display_name": "Python 3 (ipykernel)",
   "language": "python",
   "name": "python3"
  },
  "language_info": {
   "codemirror_mode": {
    "name": "ipython",
    "version": 3
   },
   "file_extension": ".py",
   "mimetype": "text/x-python",
   "name": "python",
   "nbconvert_exporter": "python",
   "pygments_lexer": "ipython3",
   "version": "3.11.6"
  }
 },
 "nbformat": 4,
 "nbformat_minor": 5
}
